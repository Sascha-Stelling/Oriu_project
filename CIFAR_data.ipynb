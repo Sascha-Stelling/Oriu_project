{
 "cells": [
  {
   "cell_type": "code",
   "execution_count": 42,
   "metadata": {
    "scrolled": true
   },
   "outputs": [
    {
     "name": "stdout",
     "output_type": "stream",
     "text": [
      "(10000, 3, 32, 32)\n",
      "(10000,)\n",
      "['frog', 'truck', 'truck', 'deer', 'automobile', 'automobile', 'bird', 'horse', 'ship', 'cat']\n"
     ]
    }
   ],
   "source": [
    "import skimage.io as io\n",
    "import mxnet as mx\n",
    "import numpy as np\n",
    "import _pickle\n",
    "from skimage import color\n",
    "import numpy as np\n",
    "\n",
    "def extractImagesAndLabels(path, file):\n",
    "    f = open(path+file, 'rb')\n",
    "    dict = _pickle.load(f,encoding='latin1')\n",
    "    images = dict['data']\n",
    "    images = np.reshape(images, (10000, 3, 32, 32))\n",
    "    labels = dict['labels']\n",
    "    imagearray = mx.nd.array(images,dtype=np.uint8)\n",
    "    labelarray = mx.nd.array(labels)\n",
    "    return imagearray, labelarray\n",
    "\n",
    "def extractCategories(path, file):\n",
    "    f = open(path+file, 'rb')\n",
    "    dict = _pickle.load(f)\n",
    "    return dict['label_names']\n",
    "\n",
    "def saveCifarImage(array, path, file):\n",
    "    # array is 3x32x32. cv2 needs 32x32x3\n",
    "    array = array.asnumpy().transpose(1,2,0)\n",
    "    # array is RGB. cv2 needs BGR\n",
    "    #array = color.rgb2bgr(array)\n",
    "    # save to PNG file\n",
    "    return io.imsave(path+file+\".png\", array)\n",
    "\n",
    "imgarray, lblarray = extractImagesAndLabels(\"cifar-10-batches-py/\", \"data_batch_1\")\n",
    "#print (imgarray)\n",
    "print (imgarray.shape)\n",
    "print (lblarray.shape)\n",
    "\n",
    "categories = extractCategories(\"cifar-10-batches-py/\", \"batches.meta\")\n",
    "\n",
    "cats = []\n",
    "for i in range(0,10):\n",
    "    saveCifarImage(imgarray[i], \"./\", \"image\"+(str)(i))\n",
    "    category = lblarray[i].asnumpy()\n",
    "    category = (int)(category[0])\n",
    "    cats.append(categories[category])\n",
    "    \n",
    "print (cats)\n",
    "\n"
   ]
  },
  {
   "cell_type": "code",
   "execution_count": null,
   "metadata": {},
   "outputs": [],
   "source": []
  }
 ],
 "metadata": {
  "kernelspec": {
   "display_name": "Python 3",
   "language": "python",
   "name": "python3"
  },
  "language_info": {
   "codemirror_mode": {
    "name": "ipython",
    "version": 3
   },
   "file_extension": ".py",
   "mimetype": "text/x-python",
   "name": "python",
   "nbconvert_exporter": "python",
   "pygments_lexer": "ipython3",
   "version": "3.6.5"
  }
 },
 "nbformat": 4,
 "nbformat_minor": 2
}
